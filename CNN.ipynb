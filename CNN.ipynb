{
  "nbformat": 4,
  "nbformat_minor": 0,
  "metadata": {
    "colab": {
      "name": "CNN-2.ipynb",
      "provenance": [],
      "collapsed_sections": []
    },
    "kernelspec": {
      "name": "python3",
      "display_name": "Python 3"
    },
    "language_info": {
      "name": "python"
    },
    "accelerator": "GPU"
  },
  "cells": [
    {
      "cell_type": "code",
      "metadata": {
        "id": "28pEbj-cBlnr"
      },
      "source": [
        "import numpy as np\n",
        "import os\n",
        "import PIL\n",
        "import pandas as pd\n",
        "import PIL.Image\n",
        "import tensorflow as tf\n",
        "import tensorflow_datasets as tfds\n",
        "import pathlib\n",
        "from keras.callbacks import CSVLogger\n",
        "from matplotlib import pyplot as plt"
      ],
      "execution_count": null,
      "outputs": []
    },
    {
      "cell_type": "code",
      "metadata": {
        "id": "LNWzA8VGM5SQ"
      },
      "source": [
        "data_dir = pathlib.Path('drive/MyDrive/fig/dataset_12000')"
      ],
      "execution_count": null,
      "outputs": []
    },
    {
      "cell_type": "code",
      "metadata": {
        "colab": {
          "base_uri": "https://localhost:8080/"
        },
        "id": "N6q3xqRdCzC5",
        "outputId": "b55fd1f7-e744-44ca-ab79-331adc961b9b"
      },
      "source": [
        "from google.colab import drive\n",
        "drive.mount('/content/drive')"
      ],
      "execution_count": null,
      "outputs": [
        {
          "output_type": "stream",
          "name": "stdout",
          "text": [
            "Mounted at /content/drive\n"
          ]
        }
      ]
    },
    {
      "cell_type": "code",
      "metadata": {
        "colab": {
          "base_uri": "https://localhost:8080/"
        },
        "id": "l3F2wJxzyrJI",
        "outputId": "e0b7e15b-17d4-4057-91e4-f1f802e16f19"
      },
      "source": [
        "device_name = tf.test.gpu_device_name()\n",
        "if device_name != '/device:GPU:0':\n",
        "  raise SystemError('GPU device not found')\n",
        "print('Found GPU at: {}'.format(device_name))"
      ],
      "execution_count": null,
      "outputs": [
        {
          "output_type": "stream",
          "name": "stdout",
          "text": [
            "Found GPU at: /device:GPU:0\n"
          ]
        }
      ]
    },
    {
      "cell_type": "code",
      "metadata": {
        "id": "-39qiD3NAc2-"
      },
      "source": [
        "batch_size = 64\n",
        "img_height = 128\n",
        "img_width = 128"
      ],
      "execution_count": null,
      "outputs": []
    },
    {
      "cell_type": "code",
      "metadata": {
        "colab": {
          "base_uri": "https://localhost:8080/"
        },
        "id": "gLeEIrYCJT0a",
        "outputId": "2f4e7822-789c-4375-ce4d-f7ffcbba0d19"
      },
      "source": [
        "train_ds = tf.keras.preprocessing.image_dataset_from_directory(\n",
        "  data_dir,\n",
        "  validation_split=0.2,\n",
        "  subset=\"training\",\n",
        "  seed=123,\n",
        "  image_size=(img_height, img_width),\n",
        "  batch_size=batch_size)\n",
        "\n",
        "val_ds = tf.keras.preprocessing.image_dataset_from_directory(\n",
        "  data_dir,\n",
        "  validation_split=0.2,\n",
        "  subset=\"validation\",\n",
        "  seed=123,\n",
        "  image_size=(img_height, img_width),\n",
        "  batch_size=batch_size)\n"
      ],
      "execution_count": null,
      "outputs": [
        {
          "output_type": "stream",
          "name": "stdout",
          "text": [
            "Found 24000 files belonging to 2 classes.\n",
            "Using 19200 files for training.\n",
            "Found 24000 files belonging to 2 classes.\n",
            "Using 4800 files for validation.\n"
          ]
        }
      ]
    },
    {
      "cell_type": "code",
      "metadata": {
        "id": "fbUsMcmQSS8f"
      },
      "source": [
        "\n",
        "model = tf.keras.Sequential([\n",
        "  \n",
        "  tf.keras.Input(shape=(img_height, img_width, 3)),\n",
        "  tf.keras.layers.experimental.preprocessing.Rescaling(1./255),\n",
        "\n",
        "  # Block 1\n",
        "  tf.keras.layers.Conv2D(64, (3, 3), activation='relu', kernel_regularizer=tf.keras.regularizers.l1_l2(l1=1e-5, l2=1e-4)),\n",
        "  tf.keras.layers.MaxPooling2D((2,2)),\n",
        "\n",
        "  # Block 2\n",
        "  tf.keras.layers.Conv2D(128, (3, 3), activation='relu', kernel_regularizer=tf.keras.regularizers.l1_l2(l1=1e-5, l2=1e-4)),\n",
        "  tf.keras.layers.MaxPooling2D((2,2)),\n",
        "\n",
        "  # Block 3\n",
        "  tf.keras.layers.Conv2D(256, (5, 5), activation='relu', kernel_regularizer=tf.keras.regularizers.l1_l2(l1=1e-5, l2=1e-4)),\n",
        "  tf.keras.layers.Conv2D(256, (3, 3), activation='relu', kernel_regularizer=tf.keras.regularizers.l1_l2(l1=1e-5, l2=1e-4)),\n",
        "  tf.keras.layers.Conv2D(256, (3, 3), activation='relu', kernel_regularizer=tf.keras.regularizers.l1_l2(l1=1e-5, l2=1e-4)),\n",
        "  tf.keras.layers.MaxPooling2D((2,2)),\n",
        "\n",
        "  # Flatten\n",
        "  tf.keras.layers.Flatten(),\n",
        "\n",
        "  # Fully connected layers\n",
        "  tf.keras.layers.Dense(512, activation='relu',kernel_regularizer=tf.keras.regularizers.l1_l2(l1=1e-5, l2=1e-4)),\n",
        "  tf.keras.layers.Dropout(.2),\n",
        "  tf.keras.layers.Dense(256, activation='relu',kernel_regularizer=tf.keras.regularizers.l1_l2(l1=1e-5, l2=1e-4)),\n",
        "  tf.keras.layers.Dropout(.2),\n",
        "  tf.keras.layers.Dense(128, activation='relu',kernel_regularizer=tf.keras.regularizers.l1_l2(l1=1e-5, l2=1e-4)),\n",
        "  tf.keras.layers.Dropout(.2),\n",
        "  tf.keras.layers.Dense(64, activation='relu',kernel_regularizer=tf.keras.regularizers.l1_l2(l1=1e-5, l2=1e-4)),\n",
        "  tf.keras.layers.Dropout(.2),\n",
        "  tf.keras.layers.Dense(1, activation='sigmoid')\n",
        "])\n",
        "    "
      ],
      "execution_count": null,
      "outputs": []
    },
    {
      "cell_type": "code",
      "metadata": {
        "colab": {
          "base_uri": "https://localhost:8080/"
        },
        "id": "ODCjkkvkGz_u",
        "outputId": "ad9890f0-a301-42b0-a455-2798d389f671"
      },
      "source": [
        "model.summary()"
      ],
      "execution_count": null,
      "outputs": [
        {
          "output_type": "stream",
          "name": "stdout",
          "text": [
            "Model: \"sequential\"\n",
            "_________________________________________________________________\n",
            "Layer (type)                 Output Shape              Param #   \n",
            "=================================================================\n",
            "rescaling (Rescaling)        (None, 128, 128, 3)       0         \n",
            "_________________________________________________________________\n",
            "conv2d (Conv2D)              (None, 126, 126, 64)      1792      \n",
            "_________________________________________________________________\n",
            "max_pooling2d (MaxPooling2D) (None, 63, 63, 64)        0         \n",
            "_________________________________________________________________\n",
            "conv2d_1 (Conv2D)            (None, 61, 61, 128)       73856     \n",
            "_________________________________________________________________\n",
            "max_pooling2d_1 (MaxPooling2 (None, 30, 30, 128)       0         \n",
            "_________________________________________________________________\n",
            "conv2d_2 (Conv2D)            (None, 26, 26, 256)       819456    \n",
            "_________________________________________________________________\n",
            "conv2d_3 (Conv2D)            (None, 24, 24, 256)       590080    \n",
            "_________________________________________________________________\n",
            "conv2d_4 (Conv2D)            (None, 22, 22, 256)       590080    \n",
            "_________________________________________________________________\n",
            "max_pooling2d_2 (MaxPooling2 (None, 11, 11, 256)       0         \n",
            "_________________________________________________________________\n",
            "flatten (Flatten)            (None, 30976)             0         \n",
            "_________________________________________________________________\n",
            "dense (Dense)                (None, 512)               15860224  \n",
            "_________________________________________________________________\n",
            "dropout (Dropout)            (None, 512)               0         \n",
            "_________________________________________________________________\n",
            "dense_1 (Dense)              (None, 256)               131328    \n",
            "_________________________________________________________________\n",
            "dropout_1 (Dropout)          (None, 256)               0         \n",
            "_________________________________________________________________\n",
            "dense_2 (Dense)              (None, 128)               32896     \n",
            "_________________________________________________________________\n",
            "dropout_2 (Dropout)          (None, 128)               0         \n",
            "_________________________________________________________________\n",
            "dense_3 (Dense)              (None, 64)                8256      \n",
            "_________________________________________________________________\n",
            "dropout_3 (Dropout)          (None, 64)                0         \n",
            "_________________________________________________________________\n",
            "dense_4 (Dense)              (None, 1)                 65        \n",
            "=================================================================\n",
            "Total params: 18,108,033\n",
            "Trainable params: 18,108,033\n",
            "Non-trainable params: 0\n",
            "_________________________________________________________________\n"
          ]
        }
      ]
    },
    {
      "cell_type": "code",
      "metadata": {
        "id": "40dkOyTzWItr"
      },
      "source": [
        "model.compile(optimizer=tf.keras.optimizers.Adam(learning_rate=1e-4),\n",
        "              loss='binary_crossentropy',\n",
        "              metrics=['accuracy'])"
      ],
      "execution_count": null,
      "outputs": []
    },
    {
      "cell_type": "code",
      "metadata": {
        "id": "TuTF8CKZyj2T"
      },
      "source": [
        "early_stopping = tf.keras.callbacks.EarlyStopping(\n",
        "    monitor='val_loss', \n",
        "    mode='min', \n",
        "    patience=15\n",
        ")"
      ],
      "execution_count": null,
      "outputs": []
    },
    {
      "cell_type": "code",
      "metadata": {
        "id": "Um4CNAd5WwHb"
      },
      "source": [
        "path = 'drive/MyDrive/fig/CNN-2'"
      ],
      "execution_count": null,
      "outputs": []
    },
    {
      "cell_type": "code",
      "metadata": {
        "id": "x5U4TzNBWuIU"
      },
      "source": [
        "csv_logger = CSVLogger(path+'/history.csv', append=True)"
      ],
      "execution_count": null,
      "outputs": []
    },
    {
      "cell_type": "code",
      "metadata": {
        "id": "3XJA_3Rzyl77"
      },
      "source": [
        "try:\n",
        "  os.remove(path+'/tmp')\n",
        "except:\n",
        "  checkpoint_filepath = path+'/tmp/checkpoint'\n",
        "  model_checkpoint_callback = tf.keras.callbacks.ModelCheckpoint(\n",
        "      filepath=checkpoint_filepath,\n",
        "      save_weights_only=True,\n",
        "      monitor='val_loss',\n",
        "      mode='min',\n",
        "      save_freq=\"epoch\",\n",
        "      save_best_only=True)"
      ],
      "execution_count": null,
      "outputs": []
    },
    {
      "cell_type": "code",
      "metadata": {
        "id": "Eond2aLqXatF"
      },
      "source": [
        "try:\n",
        "  model.load_weights(checkpoint_filepath)\n",
        "except:\n",
        "  pass"
      ],
      "execution_count": null,
      "outputs": []
    },
    {
      "cell_type": "code",
      "metadata": {
        "colab": {
          "base_uri": "https://localhost:8080/"
        },
        "id": "bMHpjODrXfgV",
        "outputId": "6d34ad91-b592-48d6-b601-34d27ad49425"
      },
      "source": [
        "#with tf.device('/device:GPU:0'):\n",
        "with tf.device('/device:GPU:0'):\n",
        "  history = model.fit(\n",
        "      train_ds, \n",
        "      validation_data=val_ds, \n",
        "      epochs=1000, \n",
        "      callbacks=[early_stopping, csv_logger, model_checkpoint_callback])"
      ],
      "execution_count": null,
      "outputs": [
        {
          "output_type": "stream",
          "name": "stdout",
          "text": [
            "Epoch 1/1000\n",
            "600/600 [==============================] - 2332s 4s/step - loss: 0.9575 - accuracy: 0.7670 - val_loss: 0.6029 - val_accuracy: 0.8906\n",
            "Epoch 2/1000\n",
            "600/600 [==============================] - 60s 100ms/step - loss: 0.5405 - accuracy: 0.9027 - val_loss: 0.4708 - val_accuracy: 0.9260\n",
            "Epoch 3/1000\n",
            "600/600 [==============================] - 62s 102ms/step - loss: 0.4255 - accuracy: 0.9319 - val_loss: 0.3527 - val_accuracy: 0.9515\n",
            "Epoch 4/1000\n",
            "600/600 [==============================] - 60s 99ms/step - loss: 0.3439 - accuracy: 0.9506 - val_loss: 0.3419 - val_accuracy: 0.9435\n",
            "Epoch 5/1000\n",
            "600/600 [==============================] - 66s 109ms/step - loss: 0.3001 - accuracy: 0.9599 - val_loss: 0.2990 - val_accuracy: 0.9583\n",
            "Epoch 6/1000\n",
            "600/600 [==============================] - 66s 108ms/step - loss: 0.2682 - accuracy: 0.9654 - val_loss: 0.2497 - val_accuracy: 0.9694\n",
            "Epoch 7/1000\n",
            "600/600 [==============================] - 62s 103ms/step - loss: 0.2441 - accuracy: 0.9694 - val_loss: 0.2279 - val_accuracy: 0.9717\n",
            "Epoch 8/1000\n",
            "600/600 [==============================] - 65s 107ms/step - loss: 0.2274 - accuracy: 0.9702 - val_loss: 0.2300 - val_accuracy: 0.9633\n",
            "Epoch 9/1000\n",
            "600/600 [==============================] - 64s 105ms/step - loss: 0.2023 - accuracy: 0.9744 - val_loss: 0.2091 - val_accuracy: 0.9712\n",
            "Epoch 10/1000\n",
            "600/600 [==============================] - 65s 107ms/step - loss: 0.1928 - accuracy: 0.9753 - val_loss: 0.1980 - val_accuracy: 0.9719\n",
            "Epoch 11/1000\n",
            "600/600 [==============================] - 66s 109ms/step - loss: 0.1773 - accuracy: 0.9780 - val_loss: 0.1743 - val_accuracy: 0.9777\n",
            "Epoch 12/1000\n",
            "600/600 [==============================] - 60s 100ms/step - loss: 0.1608 - accuracy: 0.9804 - val_loss: 0.1750 - val_accuracy: 0.9746\n",
            "Epoch 13/1000\n",
            "600/600 [==============================] - 60s 100ms/step - loss: 0.1534 - accuracy: 0.9811 - val_loss: 0.1673 - val_accuracy: 0.9771\n",
            "Epoch 14/1000\n",
            "600/600 [==============================] - 59s 97ms/step - loss: 0.1431 - accuracy: 0.9837 - val_loss: 0.1663 - val_accuracy: 0.9748\n",
            "Epoch 15/1000\n",
            "600/600 [==============================] - 59s 98ms/step - loss: 0.1346 - accuracy: 0.9851 - val_loss: 0.1525 - val_accuracy: 0.9787\n",
            "Epoch 16/1000\n",
            "600/600 [==============================] - 61s 101ms/step - loss: 0.1297 - accuracy: 0.9861 - val_loss: 0.1465 - val_accuracy: 0.9812\n",
            "Epoch 17/1000\n",
            "600/600 [==============================] - 64s 107ms/step - loss: 0.1202 - accuracy: 0.9878 - val_loss: 0.1766 - val_accuracy: 0.9717\n",
            "Epoch 18/1000\n",
            "600/600 [==============================] - 60s 99ms/step - loss: 0.1172 - accuracy: 0.9880 - val_loss: 0.1453 - val_accuracy: 0.9808\n",
            "Epoch 19/1000\n",
            "600/600 [==============================] - 61s 100ms/step - loss: 0.1083 - accuracy: 0.9908 - val_loss: 0.1448 - val_accuracy: 0.9779\n",
            "Epoch 20/1000\n",
            "600/600 [==============================] - 64s 105ms/step - loss: 0.1046 - accuracy: 0.9893 - val_loss: 0.1577 - val_accuracy: 0.9750\n",
            "Epoch 21/1000\n",
            "600/600 [==============================] - 58s 96ms/step - loss: 0.1012 - accuracy: 0.9907 - val_loss: 0.1364 - val_accuracy: 0.9812\n",
            "Epoch 22/1000\n",
            "600/600 [==============================] - 59s 98ms/step - loss: 0.0960 - accuracy: 0.9916 - val_loss: 0.1477 - val_accuracy: 0.9769\n",
            "Epoch 23/1000\n",
            "600/600 [==============================] - 59s 98ms/step - loss: 0.0955 - accuracy: 0.9913 - val_loss: 0.1434 - val_accuracy: 0.9771\n",
            "Epoch 24/1000\n",
            "600/600 [==============================] - 60s 99ms/step - loss: 0.0887 - accuracy: 0.9937 - val_loss: 0.1407 - val_accuracy: 0.9773\n",
            "Epoch 25/1000\n",
            "600/600 [==============================] - 58s 96ms/step - loss: 0.0876 - accuracy: 0.9928 - val_loss: 0.1432 - val_accuracy: 0.9783\n",
            "Epoch 26/1000\n",
            "600/600 [==============================] - 59s 97ms/step - loss: 0.0858 - accuracy: 0.9935 - val_loss: 0.1403 - val_accuracy: 0.9767\n",
            "Epoch 27/1000\n",
            "600/600 [==============================] - 59s 98ms/step - loss: 0.0799 - accuracy: 0.9946 - val_loss: 0.1967 - val_accuracy: 0.9667\n",
            "Epoch 28/1000\n",
            "600/600 [==============================] - 60s 100ms/step - loss: 0.0860 - accuracy: 0.9923 - val_loss: 0.1436 - val_accuracy: 0.9800\n",
            "Epoch 29/1000\n",
            "600/600 [==============================] - 60s 98ms/step - loss: 0.0761 - accuracy: 0.9957 - val_loss: 0.1514 - val_accuracy: 0.9773\n",
            "Epoch 30/1000\n",
            "600/600 [==============================] - 63s 105ms/step - loss: 0.0725 - accuracy: 0.9960 - val_loss: 0.1421 - val_accuracy: 0.9802\n",
            "Epoch 31/1000\n",
            "600/600 [==============================] - 64s 105ms/step - loss: 0.0753 - accuracy: 0.9947 - val_loss: 0.1360 - val_accuracy: 0.9760\n",
            "Epoch 32/1000\n",
            "600/600 [==============================] - 63s 105ms/step - loss: 0.0728 - accuracy: 0.9955 - val_loss: 0.1354 - val_accuracy: 0.9769\n",
            "Epoch 33/1000\n",
            "600/600 [==============================] - 65s 107ms/step - loss: 0.0692 - accuracy: 0.9965 - val_loss: 0.1316 - val_accuracy: 0.9802\n",
            "Epoch 34/1000\n",
            "600/600 [==============================] - 64s 106ms/step - loss: 0.0706 - accuracy: 0.9957 - val_loss: 0.1385 - val_accuracy: 0.9787\n",
            "Epoch 35/1000\n",
            "600/600 [==============================] - 64s 105ms/step - loss: 0.0660 - accuracy: 0.9966 - val_loss: 0.1319 - val_accuracy: 0.9800\n",
            "Epoch 36/1000\n",
            "600/600 [==============================] - 63s 104ms/step - loss: 0.0663 - accuracy: 0.9966 - val_loss: 0.1481 - val_accuracy: 0.9765\n",
            "Epoch 37/1000\n",
            "600/600 [==============================] - 64s 106ms/step - loss: 0.0679 - accuracy: 0.9960 - val_loss: 0.1282 - val_accuracy: 0.9800\n",
            "Epoch 38/1000\n",
            "600/600 [==============================] - 60s 100ms/step - loss: 0.0623 - accuracy: 0.9974 - val_loss: 0.1614 - val_accuracy: 0.9719\n",
            "Epoch 39/1000\n",
            "600/600 [==============================] - 60s 99ms/step - loss: 0.0622 - accuracy: 0.9969 - val_loss: 0.1526 - val_accuracy: 0.9769\n",
            "Epoch 40/1000\n",
            "600/600 [==============================] - 61s 100ms/step - loss: 0.0637 - accuracy: 0.9965 - val_loss: 0.1297 - val_accuracy: 0.9804\n",
            "Epoch 41/1000\n",
            "600/600 [==============================] - 64s 105ms/step - loss: 0.0607 - accuracy: 0.9969 - val_loss: 0.2219 - val_accuracy: 0.9588\n",
            "Epoch 42/1000\n",
            "600/600 [==============================] - 59s 98ms/step - loss: 0.0625 - accuracy: 0.9960 - val_loss: 0.1744 - val_accuracy: 0.9669\n",
            "Epoch 43/1000\n",
            "600/600 [==============================] - 60s 99ms/step - loss: 0.0642 - accuracy: 0.9955 - val_loss: 0.1335 - val_accuracy: 0.9792\n",
            "Epoch 44/1000\n",
            "600/600 [==============================] - 59s 98ms/step - loss: 0.0556 - accuracy: 0.9985 - val_loss: 0.1215 - val_accuracy: 0.9810\n",
            "Epoch 45/1000\n",
            "600/600 [==============================] - 59s 98ms/step - loss: 0.0610 - accuracy: 0.9961 - val_loss: 0.1507 - val_accuracy: 0.9775\n",
            "Epoch 46/1000\n",
            "600/600 [==============================] - 60s 99ms/step - loss: 0.0551 - accuracy: 0.9982 - val_loss: 0.1429 - val_accuracy: 0.9746\n",
            "Epoch 47/1000\n",
            "600/600 [==============================] - 60s 100ms/step - loss: 0.0548 - accuracy: 0.9977 - val_loss: 0.1359 - val_accuracy: 0.9804\n",
            "Epoch 48/1000\n",
            "600/600 [==============================] - 59s 98ms/step - loss: 0.0570 - accuracy: 0.9969 - val_loss: 0.1436 - val_accuracy: 0.9750\n",
            "Epoch 49/1000\n",
            "600/600 [==============================] - 60s 99ms/step - loss: 0.0553 - accuracy: 0.9976 - val_loss: 0.1417 - val_accuracy: 0.9777\n",
            "Epoch 50/1000\n",
            "600/600 [==============================] - 59s 97ms/step - loss: 0.0554 - accuracy: 0.9974 - val_loss: 0.1303 - val_accuracy: 0.9796\n",
            "Epoch 51/1000\n",
            "600/600 [==============================] - 60s 100ms/step - loss: 0.0552 - accuracy: 0.9971 - val_loss: 0.1253 - val_accuracy: 0.9808\n",
            "Epoch 52/1000\n",
            "600/600 [==============================] - 60s 98ms/step - loss: 0.0554 - accuracy: 0.9969 - val_loss: 0.1475 - val_accuracy: 0.9748\n",
            "Epoch 53/1000\n",
            "600/600 [==============================] - 60s 100ms/step - loss: 0.0510 - accuracy: 0.9982 - val_loss: 0.1248 - val_accuracy: 0.9821\n",
            "Epoch 54/1000\n",
            "600/600 [==============================] - 59s 97ms/step - loss: 0.0541 - accuracy: 0.9970 - val_loss: 0.1552 - val_accuracy: 0.9733\n",
            "Epoch 55/1000\n",
            "600/600 [==============================] - 60s 99ms/step - loss: 0.0535 - accuracy: 0.9972 - val_loss: 0.1331 - val_accuracy: 0.9800\n",
            "Epoch 56/1000\n",
            "600/600 [==============================] - 60s 100ms/step - loss: 0.0519 - accuracy: 0.9980 - val_loss: 0.1319 - val_accuracy: 0.9794\n",
            "Epoch 57/1000\n",
            "600/600 [==============================] - 60s 100ms/step - loss: 0.0516 - accuracy: 0.9978 - val_loss: 0.1325 - val_accuracy: 0.9771\n",
            "Epoch 58/1000\n",
            "600/600 [==============================] - 65s 107ms/step - loss: 0.0531 - accuracy: 0.9971 - val_loss: 0.1624 - val_accuracy: 0.9719\n",
            "Epoch 59/1000\n",
            "600/600 [==============================] - 60s 100ms/step - loss: 0.0490 - accuracy: 0.9979 - val_loss: 0.1349 - val_accuracy: 0.9785\n"
          ]
        }
      ]
    },
    {
      "cell_type": "code",
      "metadata": {
        "id": "XVxocO3rYrml"
      },
      "source": [
        "def plot(history, name, train, val, path):\n",
        "    plt.plot(history.history[train])\n",
        "    plt.plot(history.history[val])\n",
        "    plt.title('loss')\n",
        "    plt.xlabel('epochs')\n",
        "    plt.legend(['train', 'validation'], loc='upper left')\n",
        "    plt.savefig(path+'/'+name+'.png')\n",
        "    plt.show()"
      ],
      "execution_count": null,
      "outputs": []
    },
    {
      "cell_type": "code",
      "metadata": {
        "id": "FWfYEoOBqFB_",
        "colab": {
          "base_uri": "https://localhost:8080/",
          "height": 573
        },
        "outputId": "2598326b-0618-4858-934a-07069f3af778"
      },
      "source": [
        "plot(history, 'training_loss', 'loss', 'val_loss', path)\n",
        "plot(history, 'training_accuracy', 'accuracy', 'val_accuracy', path)"
      ],
      "execution_count": null,
      "outputs": [
        {
          "output_type": "display_data",
          "data": {
            "image/png": "[encoded data removed]",
            "text/plain": [
              "<Figure size 432x288 with 1 Axes>"
            ]
          },
          "metadata": {
            "needs_background": "light"
          }
        },
        {
          "output_type": "display_data",
          "data": {
            "image/png": "[encoded data removed]",
            "text/plain": [
              "<Figure size 432x288 with 1 Axes>"
            ]
          },
          "metadata": {
            "needs_background": "light"
          }
        }
      ]
    },
    {
      "cell_type": "code",
      "metadata": {
        "id": "2dniHYKKYz80",
        "colab": {
          "base_uri": "https://localhost:8080/"
        },
        "outputId": "766d75c5-b8ca-4ce2-e2a2-8b43b17c9414"
      },
      "source": [
        "history = pd.read_csv(path+'/history.csv')\n",
        "\"\"\"\n",
        "index = list()\n",
        "length = len(history)-1\n",
        "for i in range(22):\n",
        "  index.append(length-i)\n",
        "\n",
        "history = history.drop(index)\n",
        "\n",
        "history = history.tail(100)\n",
        "\n",
        "history =  pd.DataFrame({\n",
        "                   'accuracy': history['accuracy'].values.tolist(),\n",
        "                   'val_accuracy': history['val_accuracy'].values.tolist(),\n",
        "                   'loss': history['loss'].values.tolist(),\n",
        "                   'val_loss': history['val_loss'].values.tolist()},)\n",
        "\"\"\"\n",
        "print(history)"
      ],
      "execution_count": null,
      "outputs": [
        {
          "output_type": "stream",
          "name": "stdout",
          "text": [
            "    epoch  accuracy      loss  val_accuracy  val_loss\n",
            "0       0  0.775781  1.190624      0.925417  0.618730\n",
            "1       1  0.925156  0.542632      0.940208  0.459839\n",
            "2       2  0.942292  0.432595      0.937500  0.418633\n",
            "3       3  0.956979  0.370557      0.956042  0.356535\n",
            "4       4  0.958490  0.341350      0.960208  0.323302\n",
            "..    ...       ...       ...           ...       ...\n",
            "78     78  0.997604  0.047415      0.987917  0.101569\n",
            "79     79  0.997552  0.047045      0.976875  0.132673\n",
            "80     80  0.997187  0.047371      0.987500  0.096317\n",
            "81     81  0.997917  0.046317      0.984792  0.105255\n",
            "82     82  0.997448  0.046993      0.988125  0.096593\n",
            "\n",
            "[83 rows x 5 columns]\n"
          ]
        }
      ]
    },
    {
      "cell_type": "code",
      "metadata": {
        "id": "P8rpCvOQbCA0"
      },
      "source": [
        "from google.colab import auth\n",
        "auth.authenticate_user()\n",
        "import gspread\n",
        "from oauth2client.client import GoogleCredentials\n",
        "gc = gspread.authorize(GoogleCredentials.get_application_default())"
      ],
      "execution_count": null,
      "outputs": []
    },
    {
      "cell_type": "code",
      "metadata": {
        "id": "XjHESCSicNSK"
      },
      "source": [
        "wb = gc.open_by_url(\"https://docs.google.com/spreadsheets/d/1dNn1WTCPKRWdL5bGBJ56Zxc-uvWzkrOZcrt-v2O9TXM/edit?usp=sharing\")"
      ],
      "execution_count": null,
      "outputs": []
    },
    {
      "cell_type": "code",
      "metadata": {
        "id": "9M9b_BXMciUY"
      },
      "source": [
        "sheet = wb.worksheet('history')\n",
        "data = sheet.get_all_values()\n",
        "df = pd.DataFrame(data)"
      ],
      "execution_count": null,
      "outputs": []
    },
    {
      "cell_type": "code",
      "metadata": {
        "colab": {
          "base_uri": "https://localhost:8080/"
        },
        "id": "csq82YO6c8qh",
        "outputId": "a02c342a-5189-432c-adda-e9ffbba3c1be"
      },
      "source": [
        "print(df.tail(77))"
      ],
      "execution_count": null,
      "outputs": [
        {
          "output_type": "stream",
          "name": "stdout",
          "text": [
            "      0             1             2             3             4\n",
            "224   1  0.9185000062  0.2184580714  0.9359999895  0.1914585084\n",
            "225   2  0.9415000081   0.172774151  0.9265000224  0.1899781227\n",
            "226   3  0.9513750076  0.1390092522  0.9340000153  0.1688388288\n",
            "227   4  0.9608749747  0.1168320104  0.9434999824  0.1511791199\n",
            "228   5  0.9626250267  0.1094828695  0.9514999986  0.1437927186\n",
            "..   ..           ...           ...           ...           ...\n",
            "296  73             1      2.67E-05  0.9524999857  0.3332082331\n",
            "297  74             1      2.47E-05  0.9549999833  0.3321733177\n",
            "298  75             1      2.23E-05  0.9509999752  0.3395810425\n",
            "299  76             1      2.22E-05  0.9520000219  0.3423304856\n",
            "300  77             1      1.99E-05  0.9545000196  0.3411618471\n",
            "\n",
            "[77 rows x 5 columns]\n"
          ]
        }
      ]
    }
  ]
}